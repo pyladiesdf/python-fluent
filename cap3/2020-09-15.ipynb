{
 "cells": [
  {
   "cell_type": "markdown",
   "metadata": {},
   "source": [
    "# Cap 3. - Dicionários e Conjuntos\n",
    "### \"Variações de dict\" e \"Criando subclasses de UserDict\" (pag 105 a 108)\n",
    "\n",
    "```\n",
    "Data: 15/09/2020\n",
    "Páginas: 105 a 108\n",
    "Livro/Edição: Python Fluent, Ed.1\n",
    "Python: 3.8.2\n",
    "```\n",
    "\n",
    "---\n",
    "\n",
    "### Tópicos\n",
    "- Variações de dict\n",
    "    - OrderedDict\n",
    "    - ChainMap\n",
    "    - Counter\n",
    "    - UserDict\n",
    "- Criando subclasses de UserDict\n",
    "\n",
    "---"
   ]
  },
  {
   "cell_type": "markdown",
   "metadata": {},
   "source": [
    "## Variações de Dict"
   ]
  },
  {
   "cell_type": "markdown",
   "metadata": {},
   "source": [
    "### 3.1. OrderedDict\n",
    "\n",
    "**Livro:** \"Um dicionário que lembra a ordem de inserção. Permite que a iteração pelos itens seja feita em uma ordem previsível.\"\n",
    "\n",
    "**Doc:** \"Retorna uma subclasse de dict com métodos especializados em rearranjar a ordem das chaves do dicionário\"\n",
    "\n",
    "Mais:\n",
    "- Resposta **sensacional** no stackoverflow para entender melhor as diferenças entre dict (que a partir da versão 3.7 mantém a ordem de inserção como feature para todos os dicionários) e orderedDict: [Are dictionaries ordered in Python 3.6+?](https://stackoverflow.com/questions/39980323/are-dictionaries-ordered-in-python-3-6)\n",
    "- Python docs https://docs.python.org/3/library/collections.html#collections.OrderedDict\n",
    "- [CPython implementation - OrderedDict](https://github.com/python/cpython/blob/98ce7b107e6611d04dc35a4f5b02ea215ef122cf/Lib/collections/__init__.py#L94)"
   ]
  },
  {
   "cell_type": "code",
   "execution_count": 24,
   "metadata": {},
   "outputs": [
    {
     "name": "stdout",
     "output_type": "stream",
     "text": [
      "AMBOS MANTÉM ORDEM DE INSERÇÃO\n",
      "a c b \n",
      "a c b \n",
      " ----------\n",
      "b c a \n",
      "b c a \n",
      "\n",
      "COMPARAÇÕES SÃO ORDER SENSITIVE EM ORDERED DICTS\n",
      "Comparação dict........: True\n",
      "Comparação OrderedDict.: False\n",
      "\n",
      "ORDERED DICT TEM FUNCIONALIDADES A MAIS RELACIONADAS A ORDEM\n"
     ]
    },
    {
     "data": {
      "text/plain": [
       "OrderedDict([('c', 3), ('b', 2), ('a', 1)])"
      ]
     },
     "metadata": {},
     "output_type": "display_data"
    },
    {
     "ename": "AttributeError",
     "evalue": "'dict' object has no attribute 'move_to_end'",
     "output_type": "error",
     "traceback": [
      "\u001b[0;31m---------------------------------------------------------------------------\u001b[0m",
      "\u001b[0;31mAttributeError\u001b[0m                            Traceback (most recent call last)",
      "\u001b[0;32m<ipython-input-24-89d255369b2c>\u001b[0m in \u001b[0;36m<module>\u001b[0;34m\u001b[0m\n\u001b[1;32m     33\u001b[0m \u001b[0mord_dict\u001b[0m\u001b[0;34m.\u001b[0m\u001b[0mmove_to_end\u001b[0m\u001b[0;34m(\u001b[0m\u001b[0;34m'a'\u001b[0m\u001b[0;34m)\u001b[0m \u001b[0;31m# move 'a' para o fim do dicionário\u001b[0m\u001b[0;34m\u001b[0m\u001b[0;34m\u001b[0m\u001b[0m\n\u001b[1;32m     34\u001b[0m \u001b[0mdisplay\u001b[0m\u001b[0;34m(\u001b[0m\u001b[0mord_dict\u001b[0m\u001b[0;34m)\u001b[0m\u001b[0;34m\u001b[0m\u001b[0;34m\u001b[0m\u001b[0m\n\u001b[0;32m---> 35\u001b[0;31m \u001b[0mstd_dict\u001b[0m\u001b[0;34m.\u001b[0m\u001b[0mmove_to_end\u001b[0m\u001b[0;34m(\u001b[0m\u001b[0;34m'a'\u001b[0m\u001b[0;34m)\u001b[0m \u001b[0;31m# AttributeError: 'dict' object has no attribute 'move_to_end'\u001b[0m\u001b[0;34m\u001b[0m\u001b[0;34m\u001b[0m\u001b[0m\n\u001b[0m",
      "\u001b[0;31mAttributeError\u001b[0m: 'dict' object has no attribute 'move_to_end'"
     ]
    }
   ],
   "source": [
    "# dict vs. orderedDict\n",
    "from collections import OrderedDict\n",
    "\n",
    "print('AMBOS MANTÉM ORDEM DE INSERÇÃO')\n",
    "std_dict = dict({'a': 1, 'c': 3, 'b': 2})\n",
    "ord_dict = OrderedDict({'a': 1, 'c': 3, 'b': 2})\n",
    "\n",
    "for key in std_dict:\n",
    "    print(key, end=' ')\n",
    "print()\n",
    "for key in ord_dict:\n",
    "    print(key, end=' ')\n",
    "    \n",
    "print('\\n', '-'*10)\n",
    "\n",
    "for key in reversed(std_dict):\n",
    "    print(key, end=' ')\n",
    "print()\n",
    "for key in reversed(ord_dict):\n",
    "    print(key, end=' ')\n",
    "print('\\n')\n",
    "\n",
    "print('COMPARAÇÕES SÃO ORDER SENSITIVE EM ORDERED DICTS')\n",
    "A = {'a': 1, 'b': 2, 'c': 3}\n",
    "B = {'a': 1, 'c': 3, 'b': 2}\n",
    "print('Comparação dict........:', A == B)\n",
    "A = OrderedDict({'a': 1, 'c': 3, 'b': 2})\n",
    "B = OrderedDict({'a': 1, 'b': 2, 'c': 3})\n",
    "print('Comparação OrderedDict.:',A == B)\n",
    "\n",
    "print()\n",
    "print('ORDERED DICT TEM FUNCIONALIDADES A MAIS RELACIONADAS A ORDEM')\n",
    "ord_dict.move_to_end('a') # move 'a' para o fim do dicionário\n",
    "display(ord_dict)\n",
    "std_dict.move_to_end('a') # AttributeError: 'dict' object has no attribute 'move_to_end'"
   ]
  },
  {
   "cell_type": "markdown",
   "metadata": {},
   "source": [
    "### 3.2. ChainMap\n",
    "\n",
    "Livro: \"Armazena uma lista de mapeamentos que podem ser buscados como se fossem um só\"\n",
    "\n",
    "Mais:\n",
    "- Texto muito esclarecedor (e que inspirou os exemplos daqui): [A pratical usage of chainmap in python](https://florimond.dev/blog/articles/2018/07/a-practical-usage-of-chainmap-in-python/)\n",
    "- Stackoverflow: [What is the purpose of collections.ChainMap?](https://stackoverflow.com/questions/23392976/what-is-the-purpose-of-collections-chainmap)\n",
    "- Python docs: https://docs.python.org/pt-br/3/library/collections.html#collections.ChainMap\n",
    "- [CPython implementation - ChainMap](https://github.com/python/cpython/blob/98ce7b107e6611d04dc35a4f5b02ea215ef122cf/Lib/collections/__init__.py#L960)"
   ]
  },
  {
   "cell_type": "code",
   "execution_count": 31,
   "metadata": {},
   "outputs": [
    {
     "data": {
      "text/plain": [
       "{'boneca': 25, 'quebra-cabeças': 1}"
      ]
     },
     "metadata": {},
     "output_type": "display_data"
    },
    {
     "data": {
      "text/plain": [
       "{'bola': 10, 'boneca': 30, 'quebra-cabeças': 1, 'batata': 30, 'castanha': 100}"
      ]
     },
     "metadata": {},
     "output_type": "display_data"
    }
   ],
   "source": [
    "# COMO FUNCIONA EM DICT - PARA COMPARAÇÃO\n",
    "brinquedos = {'bola': 10, 'boneca': 30, 'quebra-cabeças': 1}\n",
    "comidas = {'batata': 30, 'castanha': 100}\n",
    "\n",
    "inventario = brinquedos.copy()\n",
    "inventario.update(comidas)  \n",
    "# também não funciona desempacotamento\n",
    "# inventario = {**brinquedos, **comidas}\n",
    "\n",
    "brinquedos.pop('bola')\n",
    "brinquedos['boneca'] = 25\n",
    "comidas['banana'] = 13\n",
    "\n",
    "display(brinquedos)\n",
    "display(inventario)"
   ]
  },
  {
   "cell_type": "code",
   "execution_count": 33,
   "metadata": {},
   "outputs": [
    {
     "data": {
      "text/plain": [
       "{'boneca': 25, 'quebra-cabeças': 1}"
      ]
     },
     "metadata": {},
     "output_type": "display_data"
    },
    {
     "data": {
      "text/plain": [
       "ChainMap({'boneca': 25, 'quebra-cabeças': 1}, {'batata': 30, 'castanha': 100})"
      ]
     },
     "metadata": {},
     "output_type": "display_data"
    },
    {
     "name": "stdout",
     "output_type": "stream",
     "text": [
      "batata 30\n",
      "castanha 100\n",
      "boneca 25\n",
      "quebra-cabeças 1\n",
      "Total:  156\n"
     ]
    }
   ],
   "source": [
    "# USANDO CHAIN MAP\n",
    "from collections import ChainMap\n",
    "\n",
    "brinquedos = {'bola': 10, 'boneca': 30, 'quebra-cabeças': 1}\n",
    "comidas = {'batata': 30, 'castanha': 100}\n",
    "\n",
    "inventario = ChainMap(brinquedos, comidas)\n",
    "\n",
    "brinquedos.pop('bola')\n",
    "brinquedos['boneca'] = 25\n",
    "\n",
    "display(brinquedos)\n",
    "display(inventario)\n",
    "\n",
    "# facilmente iteramos por todos os itens do inventário\n",
    "valor_total_inventario = 0\n",
    "for item, valor in inventario.items():\n",
    "    print(item, valor)\n",
    "    valor_total_inventario += valor\n",
    "print('Total: ', valor_total_inventario)"
   ]
  },
  {
   "cell_type": "markdown",
   "metadata": {},
   "source": [
    "### Porém!\n",
    "Docs: \"Buscas acontecem na cadeia de mapeamentos em ordem até que a chave seja encontrada. **Porém, opreação de escrita, update e deleções acontecem apenas no primeiro mapeamento**.\""
   ]
  },
  {
   "cell_type": "code",
   "execution_count": 38,
   "metadata": {},
   "outputs": [
    {
     "name": "stdout",
     "output_type": "stream",
     "text": [
      "EDITANDO VALORES\n",
      "Valor de cadeia['d']:  100\n",
      "Valor de cadeia['d']:  10\n"
     ]
    },
    {
     "data": {
      "text/plain": [
       "ChainMap({'a': 10, 'b': 10, 'c': 1, 'd': 10, 'novos': 'valores'}, {'c': 30, 'd': 100})"
      ]
     },
     "metadata": {},
     "output_type": "display_data"
    },
    {
     "name": "stdout",
     "output_type": "stream",
     "text": [
      "REMOVENDO VALORES\n"
     ]
    },
    {
     "data": {
      "text/plain": [
       "ChainMap({'a': 10, 'b': 10, 'd': 10, 'novos': 'valores'}, {'c': 30, 'd': 100})"
      ]
     },
     "metadata": {},
     "output_type": "display_data"
    },
    {
     "ename": "KeyError",
     "evalue": "\"Key not found in the first mapping: 'c'\"",
     "output_type": "error",
     "traceback": [
      "\u001b[0;31m---------------------------------------------------------------------------\u001b[0m",
      "\u001b[0;31mKeyError\u001b[0m                                  Traceback (most recent call last)",
      "\u001b[0;32m/Library/Frameworks/Python.framework/Versions/3.8/lib/python3.8/collections/__init__.py\u001b[0m in \u001b[0;36mpop\u001b[0;34m(self, key, *args)\u001b[0m\n\u001b[1;32m    964\u001b[0m         \u001b[0;32mtry\u001b[0m\u001b[0;34m:\u001b[0m\u001b[0;34m\u001b[0m\u001b[0;34m\u001b[0m\u001b[0m\n\u001b[0;32m--> 965\u001b[0;31m             \u001b[0;32mreturn\u001b[0m \u001b[0mself\u001b[0m\u001b[0;34m.\u001b[0m\u001b[0mmaps\u001b[0m\u001b[0;34m[\u001b[0m\u001b[0;36m0\u001b[0m\u001b[0;34m]\u001b[0m\u001b[0;34m.\u001b[0m\u001b[0mpop\u001b[0m\u001b[0;34m(\u001b[0m\u001b[0mkey\u001b[0m\u001b[0;34m,\u001b[0m \u001b[0;34m*\u001b[0m\u001b[0margs\u001b[0m\u001b[0;34m)\u001b[0m\u001b[0;34m\u001b[0m\u001b[0;34m\u001b[0m\u001b[0m\n\u001b[0m\u001b[1;32m    966\u001b[0m         \u001b[0;32mexcept\u001b[0m \u001b[0mKeyError\u001b[0m\u001b[0;34m:\u001b[0m\u001b[0;34m\u001b[0m\u001b[0;34m\u001b[0m\u001b[0m\n",
      "\u001b[0;31mKeyError\u001b[0m: 'c'",
      "\nDuring handling of the above exception, another exception occurred:\n",
      "\u001b[0;31mKeyError\u001b[0m                                  Traceback (most recent call last)",
      "\u001b[0;32m<ipython-input-38-6cec26ae4cbe>\u001b[0m in \u001b[0;36m<module>\u001b[0;34m\u001b[0m\n\u001b[1;32m     16\u001b[0m \u001b[0mcadeia\u001b[0m\u001b[0;34m.\u001b[0m\u001b[0mpop\u001b[0m\u001b[0;34m(\u001b[0m\u001b[0;34m'c'\u001b[0m\u001b[0;34m)\u001b[0m\u001b[0;34m\u001b[0m\u001b[0;34m\u001b[0m\u001b[0m\n\u001b[1;32m     17\u001b[0m \u001b[0mdisplay\u001b[0m\u001b[0;34m(\u001b[0m\u001b[0mcadeia\u001b[0m\u001b[0;34m)\u001b[0m\u001b[0;34m\u001b[0m\u001b[0;34m\u001b[0m\u001b[0m\n\u001b[0;32m---> 18\u001b[0;31m \u001b[0mcadeia\u001b[0m\u001b[0;34m.\u001b[0m\u001b[0mpop\u001b[0m\u001b[0;34m(\u001b[0m\u001b[0;34m'c'\u001b[0m\u001b[0;34m)\u001b[0m  \u001b[0;31m# KeyError: Key not found in the first mapping: 'c'\u001b[0m\u001b[0;34m\u001b[0m\u001b[0;34m\u001b[0m\u001b[0m\n\u001b[0m",
      "\u001b[0;32m/Library/Frameworks/Python.framework/Versions/3.8/lib/python3.8/collections/__init__.py\u001b[0m in \u001b[0;36mpop\u001b[0;34m(self, key, *args)\u001b[0m\n\u001b[1;32m    965\u001b[0m             \u001b[0;32mreturn\u001b[0m \u001b[0mself\u001b[0m\u001b[0;34m.\u001b[0m\u001b[0mmaps\u001b[0m\u001b[0;34m[\u001b[0m\u001b[0;36m0\u001b[0m\u001b[0;34m]\u001b[0m\u001b[0;34m.\u001b[0m\u001b[0mpop\u001b[0m\u001b[0;34m(\u001b[0m\u001b[0mkey\u001b[0m\u001b[0;34m,\u001b[0m \u001b[0;34m*\u001b[0m\u001b[0margs\u001b[0m\u001b[0;34m)\u001b[0m\u001b[0;34m\u001b[0m\u001b[0;34m\u001b[0m\u001b[0m\n\u001b[1;32m    966\u001b[0m         \u001b[0;32mexcept\u001b[0m \u001b[0mKeyError\u001b[0m\u001b[0;34m:\u001b[0m\u001b[0;34m\u001b[0m\u001b[0;34m\u001b[0m\u001b[0m\n\u001b[0;32m--> 967\u001b[0;31m             \u001b[0;32mraise\u001b[0m \u001b[0mKeyError\u001b[0m\u001b[0;34m(\u001b[0m\u001b[0;34m'Key not found in the first mapping: {!r}'\u001b[0m\u001b[0;34m.\u001b[0m\u001b[0mformat\u001b[0m\u001b[0;34m(\u001b[0m\u001b[0mkey\u001b[0m\u001b[0;34m)\u001b[0m\u001b[0;34m)\u001b[0m\u001b[0;34m\u001b[0m\u001b[0;34m\u001b[0m\u001b[0m\n\u001b[0m\u001b[1;32m    968\u001b[0m \u001b[0;34m\u001b[0m\u001b[0m\n\u001b[1;32m    969\u001b[0m     \u001b[0;32mdef\u001b[0m \u001b[0mclear\u001b[0m\u001b[0;34m(\u001b[0m\u001b[0mself\u001b[0m\u001b[0;34m)\u001b[0m\u001b[0;34m:\u001b[0m\u001b[0;34m\u001b[0m\u001b[0;34m\u001b[0m\u001b[0m\n",
      "\u001b[0;31mKeyError\u001b[0m: \"Key not found in the first mapping: 'c'\""
     ]
    }
   ],
   "source": [
    "# OBS: deleções e edições só funcionam para os itens do PRIMEIRO mapeamento\n",
    "map1 = {'a': 10, 'b': 30, 'c': 1}\n",
    "map2 = {'c': 30, 'd': 100}\n",
    "\n",
    "cadeia = ChainMap(map1, map2)\n",
    "\n",
    "print('EDITANDO VALORES')\n",
    "cadeia['b'] = 10\n",
    "print(\"Valor de cadeia['d']: \", cadeia['d'])\n",
    "cadeia['d'] = 10\n",
    "print(\"Valor de cadeia['d']: \", cadeia['d'])\n",
    "cadeia.update({'novos': 'valores'})\n",
    "display(cadeia)  # todas as alterações foram feitas apenas no mapeamento referente a map1\n",
    "\n",
    "print('REMOVENDO VALORES')\n",
    "cadeia.pop('c')\n",
    "display(cadeia)\n",
    "cadeia.pop('c')  # KeyError: Key not found in the first mapping: 'c'"
   ]
  },
  {
   "cell_type": "code",
   "execution_count": 40,
   "metadata": {},
   "outputs": [
    {
     "name": "stdout",
     "output_type": "stream",
     "text": [
      "\n",
      "App name...: super app\n",
      "Execuções..: 5 \n",
      "\n"
     ]
    }
   ],
   "source": [
    "# Então para que usar se não posso editar todos? -> caso de uso interessante\n",
    "\n",
    "valores_config = {'app_name': 'super app'}\n",
    "valores_default = {'app_name': 'nome default', 'qtd_exec': 5}\n",
    "\n",
    "config = ChainMap(valores_config, valores_default)\n",
    "\n",
    "print(f\"\"\"\n",
    "App name...: {config['app_name']}\n",
    "Execuções..: {config['qtd_exec']} \n",
    "\"\"\")"
   ]
  },
  {
   "cell_type": "markdown",
   "metadata": {},
   "source": [
    "### 3.3. Counter\n",
    "\n",
    "Livro: \"Um mapeamento que armazena um contador inteiro para cada chave. Atualizar uma chave existente faz o contador ser incrementado.\"\n",
    "\n",
    "Mais:\n",
    "- Python docs; https://docs.python.org/pt-br/3/library/collections.html#collections.Counter\n",
    "- [CPython implementation - Counter](https://github.com/python/cpython/blob/98ce7b107e6611d04dc35a4f5b02ea215ef122cf/Lib/collections/__init__.py#L515)"
   ]
  },
  {
   "cell_type": "code",
   "execution_count": 41,
   "metadata": {
    "scrolled": true
   },
   "outputs": [
    {
     "data": {
      "text/plain": [
       "Counter({'a': 5, 'b': 2, 'r': 2, 'c': 1, 'd': 1})"
      ]
     },
     "metadata": {},
     "output_type": "display_data"
    }
   ],
   "source": [
    "# Exemplo do livro\n",
    "from collections import Counter\n",
    "\n",
    "ct = Counter('abracadabra')\n",
    "display(ct)"
   ]
  },
  {
   "cell_type": "code",
   "execution_count": 61,
   "metadata": {},
   "outputs": [
    {
     "data": {
      "text/plain": [
       "Counter({'gatos': 4, 'doguinhos': 8})"
      ]
     },
     "metadata": {},
     "output_type": "display_data"
    },
    {
     "data": {
      "text/plain": [
       "Counter({'gatos': -7, 'ratos': 5})"
      ]
     },
     "metadata": {},
     "output_type": "display_data"
    },
    {
     "name": "stdout",
     "output_type": "stream",
     "text": [
      "Qtd gatos:  4\n",
      "Qtd ratos:  0\n"
     ]
    },
    {
     "data": {
      "text/plain": [
       "Counter({'gatos': 11, 'doguinhos': 8, 'ratos': 5})"
      ]
     },
     "metadata": {},
     "output_type": "display_data"
    },
    {
     "data": {
      "text/plain": [
       "Counter({'gatos': 2})"
      ]
     },
     "metadata": {},
     "output_type": "display_data"
    },
    {
     "data": {
      "text/plain": [
       "[('gatos', 11)]"
      ]
     },
     "execution_count": 61,
     "metadata": {},
     "output_type": "execute_result"
    }
   ],
   "source": [
    "# MÉTODOS LEGAIS\n",
    "\n",
    "centro_zoonoses = Counter(gatos=4, doguinhos=8)\n",
    "display(centro_zoonoses)\n",
    "\n",
    "# É possível inicializar o contador com valores negativos\n",
    "teste = Counter(gatos=-7, ratos=5)\n",
    "display(teste)\n",
    "\n",
    "# pegar uma chave inexistente retorna 0\n",
    "print('Qtd gatos: ', centro_zoonoses['gatos'])\n",
    "print('Qtd ratos: ', centro_zoonoses['ratos'])\n",
    "\n",
    "# operadores de soma e subtração funcionam legal\n",
    "centro_zoonoses_suburbio = Counter(gatos=7, ratos=5)\n",
    "total_bichinhos = centro_zoonoses + centro_zoonoses_suburbio\n",
    "display(total_bichinhos)\n",
    "\n",
    "# PS: em operações, se o valor é zerado (ou fica menor que zero)\n",
    "# a chave é removida\n",
    "teste = Counter(gatos=7, ratos=-5, caes=4) - Counter(gatos=5, caes=10)\n",
    "display(teste)\n",
    "\n",
    "# possui uns métodos úteis\n",
    "total_bichinhos.most_common(1)"
   ]
  },
  {
   "cell_type": "code",
   "execution_count": 72,
   "metadata": {},
   "outputs": [
    {
     "data": {
      "text/plain": [
       "[('is', 10), ('better', 8), ('than', 8)]"
      ]
     },
     "metadata": {},
     "output_type": "display_data"
    },
    {
     "data": {
      "text/plain": [
       "[('is', 9), ('better', 9), ('than', 8)]"
      ]
     },
     "metadata": {},
     "output_type": "display_data"
    },
    {
     "data": {
      "text/plain": [
       "[('is', 9), ('than', 8), ('better', 6)]"
      ]
     },
     "metadata": {},
     "output_type": "display_data"
    }
   ],
   "source": [
    "# Útil para fazer contagem de caracteres ou então um  bag of words\n",
    "import this\n",
    "import codecs\n",
    "zen_of_python = codecs.encode(this.s, 'rot13')\n",
    "\n",
    "bag_of_words = Counter(zen_of_python.split())\n",
    "\n",
    "# Útil para pegar os mais comuns\n",
    "display(bag_of_words.most_common(3))\n",
    "\n",
    "# updates incrementa a contagem ao invés de dar replace no valor \n",
    "# (tem o contrário que é o método subtract)\n",
    "bag_of_words.update({'is': 4})  # is é 14\n",
    "bag_of_words.subtract({'is': 5})  # is é 9\n",
    "bag_of_words.update(['better'])\n",
    "display(bag_of_words.most_common(3))\n",
    "\n",
    "# tudo pode ser corrompido\n",
    "bag_of_words['better'] = 6\n",
    "display(bag_of_words.most_common(3))"
   ]
  },
  {
   "cell_type": "markdown",
   "metadata": {},
   "source": [
    "### 3.4. UserDict\n",
    "\n",
    "Livro: \"É uma implementação Python pura de um mapeamento que funciona como um `dict` padrão. [...] quase sempre é mais fácil criar um novo tipo de mapeamento usando estendendo `UserDict` em vez de `dict`\", isso porque \"`dict` tem alguns atalhos de implementação que acabam nos forçando a sobrescrever métodos que podemos simplesmente herdar\" _-> vamos ver mais sobre outros problemas em capítulos futuros do livro._\n",
    "\n",
    "\"Enquanto `OrderedDict`, `ChainMap` e `Counter` estão prontos para uso, `UserDict` foi concebido para que subclasses sejam criadas a partir dele\".\n",
    "\n",
    "More:\n",
    "- Python docs: https://docs.python.org/pt-br/3/library/collections.html#collections.UserDict\n",
    "- [CPython implementation - UserDict](https://github.com/python/cpython/blob/98ce7b107e6611d04dc35a4f5b02ea215ef122cf/Lib/collections/__init__.py#L1089) -> observe que `UserDict` não herda de `dict`, mas sim de `MutableMapping`! Porém, internamente, ele guarda uma instância de `dict` dentro de um atributo `data` onde guarda seus dados... isso evita recursões indesejadas em alguns métodos especiais."
   ]
  },
  {
   "cell_type": "code",
   "execution_count": null,
   "metadata": {},
   "outputs": [],
   "source": [
    "# EXEMPLO DO LIVRO\n",
    "# Baseado no exemplo de implementação da classe StrKeyDict0 (mostrada no encontro anterior)\n",
    "\n",
    "from collections import UserDict\n",
    "\n",
    "class StrKeyDict(UserDict): # -> A classe herda de UserDict\n",
    "    def __missing__(self, key):  # Igual a implementação de StrKeyDict0\n",
    "        if isinstance(key, str):\n",
    "            raise KeyError(key)\n",
    "        return self[str(key)]\n",
    "    \n",
    "    def __contains__(self, key):  # Mais simples que a implementação de StrKeyDict0 porque\n",
    "                                  # podemos supor que todas as chaves guardadas são str\n",
    "        return str(key) in self.data\n",
    "    \n",
    "    def __setitem__(self, key, item):  # Mais fácil de sobrescrever, uma vez que \n",
    "                                       # estamos delegando para o atributo self.data (que é um dict)\n",
    "        self.data[str(key)] = item"
   ]
  },
  {
   "cell_type": "markdown",
   "metadata": {},
   "source": [
    "Como `UserDict` é uma subclasse de `MutableMapping`, os métodos restantes que tornam `StrKeyDict` um mapeamento completo são herdados de `UserDict`, `MutableMapping` ou `Mapping`. \n",
    "\n",
    "Os últimos têm diversos métodos concretos úteis, apesar de serem ABCs. Vale a pena dar uma olhada nos método a seguir:\n",
    "\n",
    "#### MutableMapping.update ([código fonte no CPython](https://github.com/python/cpython/blob/master/Lib/_collections_abc.py#L848))\n",
    "\"Esse método poderoso pode ser chamado diretamente, mas é usado também por `__init__` para carregar a instância a partir de outros mapeamentos, iteráveis de pares `(key, value)` e argumentos nomeados. Por usar `self[key] = value` para adicionar itens, nossa implementação de `__setitem__` é chamada."
   ]
  },
  {
   "cell_type": "code",
   "execution_count": null,
   "metadata": {},
   "outputs": [],
   "source": [
    "# Código de MutabbleMapping.update no CPython (dia 26.08.2020)\n",
    "def update(self, other=(), /, **kwds):\n",
    "    ''' D.update([E, ]**F) -> None.  Update D from mapping/iterable E and F.\n",
    "        If E present and has a .keys() method, does:     for k in E: D[k] = E[k]\n",
    "        If E present and lacks .keys() method, does:     for (k, v) in E: D[k] = v\n",
    "        In either case, this is followed by: for k, v in F.items(): D[k] = v\n",
    "    '''\n",
    "    if isinstance(other, Mapping):\n",
    "        for key in other:\n",
    "            self[key] = other[key]\n",
    "    elif hasattr(other, \"keys\"):\n",
    "        for key in other.keys():\n",
    "            self[key] = other[key]\n",
    "    else:\n",
    "        for key, value in other:\n",
    "            self[key] = value\n",
    "    for key, value in kwds.items():\n",
    "        self[key] = value"
   ]
  },
  {
   "cell_type": "markdown",
   "metadata": {},
   "source": [
    "#### Mapping.get ([código fonte no CPython](https://github.com/python/cpython/blob/master/Lib/_collections_abc.py#L675))\n",
    "Em `StrKeyDict0`, tivemos que codificar nosso próprio `get` para obter resultados consistentes com `__getitem__`, porém, no exemplo de `StrKeyDict`, herdamos `Mapping.get`, que é implementado exatamente como `StrKeyDict0.get` :)"
   ]
  },
  {
   "cell_type": "code",
   "execution_count": 11,
   "metadata": {},
   "outputs": [],
   "source": [
    "# Código de Mapping.get no CPython (dia 26.08.2020)\n",
    "def get(self, key, default=None):\n",
    "    'D.get(k[,d]) -> D[k] if k in D, else d.  d defaults to None.'\n",
    "    try:\n",
    "        return self[key]\n",
    "    except KeyError:\n",
    "        return default"
   ]
  }
 ],
 "metadata": {
  "kernelspec": {
   "display_name": "Python 3",
   "language": "python",
   "name": "python3"
  },
  "language_info": {
   "codemirror_mode": {
    "name": "ipython",
    "version": 3
   },
   "file_extension": ".py",
   "mimetype": "text/x-python",
   "name": "python",
   "nbconvert_exporter": "python",
   "pygments_lexer": "ipython3",
   "version": "3.8.3"
  }
 },
 "nbformat": 4,
 "nbformat_minor": 4
}
