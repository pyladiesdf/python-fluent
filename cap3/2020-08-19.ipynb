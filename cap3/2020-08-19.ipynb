{
 "cells": [
  {
   "cell_type": "markdown",
   "metadata": {},
   "source": [
    "# Cap 3. - Dicionários e Conjuntos\n",
    "### \"Mapeamentos com consulta de chave flexível\" até \"variações de dict\" (pag 101 a 105)\n",
    "\n",
    "```\n",
    "Data: 19/08/2020\n",
    "Páginas: 100 a 106\n",
    "Livro/Edição: Python Fluent, Ed.1\n",
    "Python: 3.8.2\n",
    "```\n",
    "\n",
    "---\n",
    "\n",
    "### Tópicos\n",
    "- Default dict\n",
    "    - Como usar\n",
    "    - Particularidades e pontos de atenção\n",
    "- Método `__missing__`\n",
    "    - Usando para implementação customizada"
   ]
  },
  {
   "cell_type": "markdown",
   "metadata": {},
   "source": [
    "## 1. Default dict\n",
    "\n",
    "\"Subclasse de dict que chama uma _factory_ para fornecer valores faltantes.\" - Python docs\n",
    "\n",
    "Ao instanciar um defaultdict, você fornece uma função ou classe (que será armazenada no **atributo** _default_factory_) que será usda para **gerar um valor sempre que tentarem acessar diretamente uma chave inexistente no dicionário**.\n",
    "\n",
    "Mais em:\n",
    "- [Collections.defaultdict python3](https://docs.python.org/3/library/collections.html#collections.defaultdict) <- indico muito dar uma olhada\n",
    "- Bônus: [refactoring.guru - padrão de design _factory_](https://refactoring.guru/pt-br/design-patterns/factory-method)"
   ]
  },
  {
   "cell_type": "code",
   "execution_count": 115,
   "metadata": {},
   "outputs": [
    {
     "name": "stdout",
     "output_type": "stream",
     "text": [
      "2\n",
      "teste\n"
     ]
    },
    {
     "ename": "KeyError",
     "evalue": "'c'",
     "output_type": "error",
     "traceback": [
      "\u001b[0;31m---------------------------------------------------------------------------\u001b[0m",
      "\u001b[0;31mKeyError\u001b[0m                                  Traceback (most recent call last)",
      "\u001b[0;32m<ipython-input-115-d080a048cb4e>\u001b[0m in \u001b[0;36m<module>\u001b[0;34m\u001b[0m\n\u001b[1;32m     13\u001b[0m \u001b[0;34m\u001b[0m\u001b[0m\n\u001b[1;32m     14\u001b[0m \u001b[0;31m# tentativa de acessar diretamente chave inexistente\u001b[0m\u001b[0;34m\u001b[0m\u001b[0;34m\u001b[0m\u001b[0;34m\u001b[0m\u001b[0m\n\u001b[0;32m---> 15\u001b[0;31m \u001b[0mdict_padrao\u001b[0m\u001b[0;34m[\u001b[0m\u001b[0;34m'c'\u001b[0m\u001b[0;34m]\u001b[0m \u001b[0;31m# raise KeyError: 'c'\u001b[0m\u001b[0;34m\u001b[0m\u001b[0;34m\u001b[0m\u001b[0m\n\u001b[0m",
      "\u001b[0;31mKeyError\u001b[0m: 'c'"
     ]
    }
   ],
   "source": [
    "# PARA COMPARAÇÃO - dicionário normal\n",
    "\n",
    "dict_padrao = {'a': 2}\n",
    "\n",
    "# acessar uma chave existente retorna seu valor\n",
    "x = dict_padrao['a']\n",
    "print(x)  # R: 2\n",
    "\n",
    "# acessar uma chave inexistente com get retorna o valor definido como default\n",
    "# Nota: o dicionário original não é alterado\n",
    "x = dict_padrao.get('b', 'teste')\n",
    "print(x)  # R: teste\n",
    "\n",
    "# tentativa de acessar diretamente chave inexistente\n",
    "dict_padrao['c'] # raise KeyError: 'c'"
   ]
  },
  {
   "cell_type": "code",
   "execution_count": 117,
   "metadata": {},
   "outputs": [
    {
     "name": "stdout",
     "output_type": "stream",
     "text": [
      "2\n",
      "teste\n",
      "0\n"
     ]
    },
    {
     "data": {
      "text/plain": [
       "defaultdict(int, {'a': 2, 'c': 0})"
      ]
     },
     "execution_count": 117,
     "metadata": {},
     "output_type": "execute_result"
    }
   ],
   "source": [
    "# USANDO defaultdict\n",
    "from collections import defaultdict\n",
    "\n",
    "def_dict = defaultdict(int) # -> sempre que uma missing key for acessada,\n",
    "                            #    essa função default_factory() será chamada p/ repor o valor\n",
    "                            #    por default, default_factory = None\n",
    "def_dict['a'] = 2\n",
    "\n",
    "# acessar uma chave existente retorna seu valor\n",
    "# igual dict normal\n",
    "x = def_dict['a']\n",
    "print(x)  # R: 2\n",
    "\n",
    "# acessar uma chave inexistente com get retorna o VALOR DEFAULT DE GET, NÃO USA O DEFAULT FACTORY !!\n",
    "# Nota: o dicionário original NÃO é alterado !!\n",
    "# igual dict normal\n",
    "x = dict_padrao.get('b', 'teste')\n",
    "print(x)  # R: teste\n",
    "\n",
    "# tentativa de acessar diretamente chave inexistente\n",
    "# Nota: o dicionário original É alterado !!\n",
    "x = def_dict['c']\n",
    "print(x) # R: 0 -> int()\n",
    "def_dict"
   ]
  },
  {
   "cell_type": "code",
   "execution_count": 118,
   "metadata": {},
   "outputs": [
    {
     "ename": "KeyError",
     "evalue": "'a'",
     "output_type": "error",
     "traceback": [
      "\u001b[0;31m---------------------------------------------------------------------------\u001b[0m",
      "\u001b[0;31mKeyError\u001b[0m                                  Traceback (most recent call last)",
      "\u001b[0;32m<ipython-input-118-f21af8262666>\u001b[0m in \u001b[0;36m<module>\u001b[0;34m\u001b[0m\n\u001b[1;32m      1\u001b[0m \u001b[0;31m# default_dict sem factory é igual a um dict normal e gera KeyError para chaves ausentes\u001b[0m\u001b[0;34m\u001b[0m\u001b[0;34m\u001b[0m\u001b[0;34m\u001b[0m\u001b[0m\n\u001b[1;32m      2\u001b[0m \u001b[0mdef_dict\u001b[0m \u001b[0;34m=\u001b[0m \u001b[0mdefaultdict\u001b[0m\u001b[0;34m(\u001b[0m\u001b[0;34m)\u001b[0m\u001b[0;34m\u001b[0m\u001b[0;34m\u001b[0m\u001b[0m\n\u001b[0;32m----> 3\u001b[0;31m \u001b[0mdef_dict\u001b[0m\u001b[0;34m[\u001b[0m\u001b[0;34m'a'\u001b[0m\u001b[0;34m]\u001b[0m\u001b[0;34m\u001b[0m\u001b[0;34m\u001b[0m\u001b[0m\n\u001b[0m",
      "\u001b[0;31mKeyError\u001b[0m: 'a'"
     ]
    }
   ],
   "source": [
    "# default_dict sem factory é igual a um dict normal e gera KeyError para chaves ausentes\n",
    "def_dict = defaultdict()\n",
    "def_dict['a']"
   ]
  },
  {
   "cell_type": "code",
   "execution_count": 53,
   "metadata": {},
   "outputs": [
    {
     "data": {
      "text/plain": [
       "defaultdict(list,\n",
       "            {'Ana': ['boneca', 'ursinho'],\n",
       "             'Bob': ['carrinho', 'ursinho'],\n",
       "             'Joe': ['livro']})"
      ]
     },
     "execution_count": 53,
     "metadata": {},
     "output_type": "execute_result"
    }
   ],
   "source": [
    "# Caso de uso prático -> inicializar listas quando não existem para dar append\n",
    "\n",
    "lista_de_pedidos = [('Ana', 'boneca'), ('Ana', 'ursinho'), ('Bob', 'carrinho'), ('Joe', 'livro'), ('Bob', 'ursinho')]\n",
    "presentes_por_criança = defaultdict(list)\n",
    "\n",
    "for nome, presente in lista_de_pedidos:\n",
    "    presentes_por_criança[nome].append(presente)\n",
    "\n",
    "presentes_por_criança"
   ]
  },
  {
   "cell_type": "markdown",
   "metadata": {},
   "source": [
    "### 1.1. Observações e pontos de atenção"
   ]
  },
  {
   "cell_type": "code",
   "execution_count": 59,
   "metadata": {},
   "outputs": [
    {
     "data": {
      "text/plain": [
       "defaultdict(None, {'default_factory': int})"
      ]
     },
     "metadata": {},
     "output_type": "display_data"
    },
    {
     "ename": "KeyError",
     "evalue": "'a'",
     "output_type": "error",
     "traceback": [
      "\u001b[0;31m---------------------------------------------------------------------------\u001b[0m",
      "\u001b[0;31mKeyError\u001b[0m                                  Traceback (most recent call last)",
      "\u001b[0;32m<ipython-input-59-2eea86b3002d>\u001b[0m in \u001b[0;36m<module>\u001b[0;34m\u001b[0m\n\u001b[1;32m      3\u001b[0m \u001b[0mdisplay\u001b[0m\u001b[0;34m(\u001b[0m\u001b[0mdef_dict\u001b[0m\u001b[0;34m)\u001b[0m  \u001b[0;31m# -> defaultdict identifica default_factory como uma CHAVE com o VALOR int\u001b[0m\u001b[0;34m\u001b[0m\u001b[0;34m\u001b[0m\u001b[0m\n\u001b[1;32m      4\u001b[0m \u001b[0;34m\u001b[0m\u001b[0m\n\u001b[0;32m----> 5\u001b[0;31m \u001b[0mdef_dict\u001b[0m\u001b[0;34m[\u001b[0m\u001b[0;34m'a'\u001b[0m\u001b[0;34m]\u001b[0m  \u001b[0;31m# raise KeyError\u001b[0m\u001b[0;34m\u001b[0m\u001b[0;34m\u001b[0m\u001b[0m\n\u001b[0m",
      "\u001b[0;31mKeyError\u001b[0m: 'a'"
     ]
    }
   ],
   "source": [
    "# default_factory é um ATRIBUTO, não um ARGUMENTO/PARÂMETRO\n",
    "def_dict = defaultdict(default_factory=int)\n",
    "display(def_dict)  # -> perceba que defaultdict identifica default_factory como uma CHAVE com o VALOR int\n",
    "\n",
    "def_dict['a']  # raise KeyError"
   ]
  },
  {
   "cell_type": "code",
   "execution_count": 75,
   "metadata": {},
   "outputs": [
    {
     "data": {
      "text/plain": [
       "defaultdict(None, {'default_factory': int, 'a': 2, 'b': 'a'})"
      ]
     },
     "metadata": {},
     "output_type": "display_data"
    },
    {
     "data": {
      "text/plain": [
       "defaultdict(None, {'a': 2, 'b': 3})"
      ]
     },
     "metadata": {},
     "output_type": "display_data"
    },
    {
     "data": {
      "text/plain": [
       "defaultdict(None, {'a': 2, 'b': 3, 'batata': 2})"
      ]
     },
     "metadata": {},
     "output_type": "display_data"
    },
    {
     "data": {
      "text/plain": [
       "defaultdict(list, {'a': 2, 1: 3, 'batata': 4})"
      ]
     },
     "metadata": {},
     "output_type": "display_data"
    }
   ],
   "source": [
    "# FORMAS DE PASSAR VALORES PARA UM DEFAULT DICT\n",
    "\n",
    "# via parâmetros\n",
    "def_dict = defaultdict(default_factory=int, a=2, b='a')  # PS: não funciona para chaves que são números\n",
    "display(def_dict)\n",
    "\n",
    "# via dicionário\n",
    "def_dict = defaultdict(None, {'a': 2, 'b':3})\n",
    "display(def_dict)\n",
    "\n",
    "# ambos (parâmetros e dicionários)\n",
    "def_dict = defaultdict(None, {'a': 2, 'b':3}, batata=2)\n",
    "display(def_dict)\n",
    "\n",
    "# com um iterável\n",
    "def_dict = defaultdict(list, [('a', 2), (1, 3), ('batata', 4)])\n",
    "display(def_dict)\n",
    "\n",
    "# NÃO FUNCIONA\n",
    "# def_dict = defaultdict({'a': 2, 'b':3})  # Erro porque ele não identifica a factory como callable\n",
    "# def_dict = defaultdict(None, {'a': 2}, {'b':3})  # Erro porque só é esperado 1 argumento para popular o dict"
   ]
  },
  {
   "cell_type": "code",
   "execution_count": 82,
   "metadata": {},
   "outputs": [
    {
     "data": {
      "text/plain": [
       "defaultdict(<function __main__.minha_factory()>, {})"
      ]
     },
     "metadata": {},
     "output_type": "display_data"
    },
    {
     "data": {
      "text/plain": [
       "defaultdict(<function __main__.<lambda>()>, {})"
      ]
     },
     "metadata": {},
     "output_type": "display_data"
    },
    {
     "data": {
      "text/plain": [
       "defaultdict(list, {'teste': 'pela ciência'})"
      ]
     },
     "metadata": {},
     "output_type": "display_data"
    },
    {
     "data": {
      "text/plain": [
       "defaultdict(int, {'teste': 'pela ciência'})"
      ]
     },
     "metadata": {},
     "output_type": "display_data"
    }
   ],
   "source": [
    "# FORMAS DE DEFINIR A default_factory PARA UM DEFAULT DICT\n",
    "\n",
    "# Passando uma função (ou não passando nada)\n",
    "def minha_factory():  # -> não recebe nada por parâmetro\n",
    "    return 'valor'\n",
    "def_dict = defaultdict(minha_factory)\n",
    "display(def_dict)\n",
    "\n",
    "# Via lambda\n",
    "def_dict = defaultdict(lambda: 'Oh yeas!')\n",
    "display(def_dict)\n",
    "\n",
    "\n",
    "# Atribuindo uma função diretamente a default_factory\n",
    "def_dict = defaultdict(list, {'teste': 'pela ciência'})\n",
    "display(def_dict)\n",
    "def_dict.default_factory = int\n",
    "display(def_dict)"
   ]
  },
  {
   "cell_type": "code",
   "execution_count": 98,
   "metadata": {},
   "outputs": [
    {
     "name": "stdout",
     "output_type": "stream",
     "text": [
      "def_dict['a']:  0\n",
      "def_dict['b']:  1\n",
      "def_dict['c']:  2\n"
     ]
    },
    {
     "data": {
      "text/plain": [
       "defaultdict(<bound method ClasseGeradora.prox_valor of <__main__.ClasseGeradora object at 0x110856eb0>>,\n",
       "            {'a': 0, 'b': 1, 'c': 2})"
      ]
     },
     "metadata": {},
     "output_type": "display_data"
    }
   ],
   "source": [
    "# TESTE COM FUNÇÃO GERADORA\n",
    "\n",
    "class ClasseGeradora:\n",
    "    max_numeros = 100\n",
    "    gerador_de_numeros = (i for i in range(max_numeros))\n",
    "    def prox_valor(self):\n",
    "        return next(self.gerador_de_numeros)\n",
    "\n",
    "c = ClasseGeradora()\n",
    "def_dict = defaultdict(c.prox_valor)\n",
    "\n",
    "# Para cada chamada a uma chave inexistente nova um novo valor será retornado\n",
    "# OBS: Se for necessário criar mais números que o que doi definido em\n",
    "#      \"max_numeros\" a função \"prox_valor\" irá quebrar!\n",
    "print(\"def_dict['a']: \", def_dict['a'])\n",
    "print(\"def_dict['b']: \", def_dict['b'])\n",
    "print(\"def_dict['c']: \", def_dict['c'])\n",
    "display(def_dict)"
   ]
  },
  {
   "cell_type": "code",
   "execution_count": 105,
   "metadata": {},
   "outputs": [
    {
     "name": "stdout",
     "output_type": "stream",
     "text": [
      "CRIANDO USUARIOS AUTOMATICAMENTE QUANDO NÃO ENCONTRADOS...\n"
     ]
    },
    {
     "data": {
      "text/plain": [
       "Usuario 4571934048 - nome: desconhecido | carrinho: []"
      ]
     },
     "metadata": {},
     "output_type": "display_data"
    },
    {
     "data": {
      "text/plain": [
       "Usuario 4571933424 - nome: desconhecido | carrinho: []"
      ]
     },
     "metadata": {},
     "output_type": "display_data"
    },
    {
     "name": "stdout",
     "output_type": "stream",
     "text": [
      "------------------------------------------------------------\n",
      "MUDAR O CARRINHO DE UM USUÁRIO MUDA O CARRINHO DE TODOS OS\n",
      "OUTROS POR CAUSA DA REF. NO OBJETO...\n"
     ]
    },
    {
     "data": {
      "text/plain": [
       "Usuario 4571934048 - nome: desconhecido | carrinho: ['banana']"
      ]
     },
     "metadata": {},
     "output_type": "display_data"
    },
    {
     "data": {
      "text/plain": [
       "Usuario 4571933424 - nome: desconhecido | carrinho: ['banana']"
      ]
     },
     "metadata": {},
     "output_type": "display_data"
    }
   ],
   "source": [
    "# Exemplo mostrando uma factory e também mostrando\n",
    "# para ter cuidado com as referências dos objetos\n",
    "import collections\n",
    "\n",
    "\"\"\"\n",
    "Suponha que somos um ecomerce e guardamos todas\n",
    "as sessões ativas em um dicionário.\n",
    "\n",
    "Mesmo que o usuário não tenha efetuado o login,\n",
    "nós guardamos seu carrinho de compras para que \n",
    "ele não seja perdido quando o login for efetuado\n",
    "\"\"\"\n",
    "\n",
    "# Essa é nossa classe de usuário\n",
    "class Usuario:\n",
    "    def __init__(self, nome, carrinho):\n",
    "        self.nome = nome\n",
    "        self.carrinho = carrinho\n",
    "    def __repr__(self):\n",
    "        return f'Usuario {id(self)} - nome: {self.nome} | carrinho: {self.carrinho}'\n",
    "\n",
    "class FabricaDeUsuarios:\n",
    "    nome_default = 'desconhecido'\n",
    "    carrinho_compras_default = []  # -> aqui está o problema, variáveis no escopo da classe mantém a mesma \n",
    "                                   #    referência para todos os objs construídos a partir delas\n",
    "        \n",
    "    def novo_usuario_desconhecido(self):\n",
    "        # Todos os objs construídos vão referenciar a mesma lista no seu carrinho de compras...\n",
    "        novo_usuario = Usuario(nome=self.nome_default, carrinho=self.carrinho_compras_default) \n",
    "        return novo_usuario\n",
    "    \n",
    "    def novo_usuario_cadastrado(self, nome, carrinho):  # Só para exemplificar métodos de uma factory\n",
    "        ...\n",
    "    \n",
    "# Podemos usar default dict para automaticamente criar um novo usuario\n",
    "# desconhecido quando não temos um usuario logado para a sessão\n",
    "factory = FabricaDeUsuarios()\n",
    "sessoes_ativas = defaultdict(factory.novo_usuario_desconhecido)\n",
    "\n",
    "print('CRIANDO USUARIOS AUTOMATICAMENTE QUANDO NÃO ENCONTRADOS...')\n",
    "usuario1 = sessoes_ativas['ip_usuario1']\n",
    "usuario2 = sessoes_ativas['ip_usuario2']\n",
    "display(usuario1)\n",
    "display(usuario2)\n",
    "\n",
    "print('-' * 60)\n",
    "print('MUDAR O CARRINHO DE UM USUÁRIO MUDA O CARRINHO DE TODOS OS')\n",
    "print('OUTROS POR CAUSA DA REF. NO OBJETO...')\n",
    "usuario2.carrinho += ['banana']\n",
    "display(usuario1)\n",
    "display(usuario2)"
   ]
  },
  {
   "cell_type": "markdown",
   "metadata": {},
   "source": [
    "## 2. Método `__missing__`\n",
    "\n",
    "Livro: \"Esse método **não está definido na classe base _dict_**, porém `dict` está ciente de sua finalidade, se você criar uma subclasse de `dict` e implementar o método `__missing__`, o método `dict.__getitem__` padrão o chamará sempre que uma chave não for encontrada, em vez de gerar um `KeyError`\"\n",
    "\n",
    "**PS:** \"A presença de um método `__missing__` não terá nenhum efeito no comportamento de outros métodos que consultem chaves, por exemplo `get` ou `__contains__` (que implementa o operador `in`).\n",
    "\n",
    "- Não encontrei a implementação oficial de python de um dict para ver como esse método se relaciona com a classe :( \n",
    "- Encontrei essa implementação um gist (NÃO OFICIAL) que é interessante para ver como ele usa os _dunder methods_ para implementar um defaultdict customizado https://gist.github.com/ohe/1605376\n"
   ]
  },
  {
   "cell_type": "code",
   "execution_count": 120,
   "metadata": {},
   "outputs": [
    {
     "data": {
      "text/plain": [
       "{'2': 'two', '4': 'four'}"
      ]
     },
     "metadata": {},
     "output_type": "display_data"
    },
    {
     "name": "stdout",
     "output_type": "stream",
     "text": [
      "four\n",
      "four\n"
     ]
    },
    {
     "ename": "KeyError",
     "evalue": "'3'",
     "output_type": "error",
     "traceback": [
      "\u001b[0;31m---------------------------------------------------------------------------\u001b[0m",
      "\u001b[0;31mKeyError\u001b[0m                                  Traceback (most recent call last)",
      "\u001b[0;32m<ipython-input-120-64f6b60ec657>\u001b[0m in \u001b[0;36m<module>\u001b[0;34m\u001b[0m\n\u001b[1;32m     34\u001b[0m \u001b[0mprint\u001b[0m\u001b[0;34m(\u001b[0m\u001b[0mcustom_dict\u001b[0m\u001b[0;34m[\u001b[0m\u001b[0;34m'4'\u001b[0m\u001b[0;34m]\u001b[0m\u001b[0;34m)\u001b[0m\u001b[0;34m\u001b[0m\u001b[0;34m\u001b[0m\u001b[0m\n\u001b[1;32m     35\u001b[0m \u001b[0mprint\u001b[0m\u001b[0;34m(\u001b[0m\u001b[0mcustom_dict\u001b[0m\u001b[0;34m[\u001b[0m\u001b[0;36m4\u001b[0m\u001b[0;34m]\u001b[0m\u001b[0;34m)\u001b[0m\u001b[0;34m\u001b[0m\u001b[0;34m\u001b[0m\u001b[0m\n\u001b[0;32m---> 36\u001b[0;31m \u001b[0mprint\u001b[0m\u001b[0;34m(\u001b[0m\u001b[0mcustom_dict\u001b[0m\u001b[0;34m[\u001b[0m\u001b[0;36m3\u001b[0m\u001b[0;34m]\u001b[0m\u001b[0;34m)\u001b[0m \u001b[0;31m# como esperado, gera KeyError porque '3' não existe no dicionario\u001b[0m\u001b[0;34m\u001b[0m\u001b[0;34m\u001b[0m\u001b[0m\n\u001b[0m",
      "\u001b[0;32m<ipython-input-120-64f6b60ec657>\u001b[0m in \u001b[0;36m__missing__\u001b[0;34m(self, key)\u001b[0m\n\u001b[1;32m     12\u001b[0m         \u001b[0;32mif\u001b[0m \u001b[0misinstance\u001b[0m\u001b[0;34m(\u001b[0m\u001b[0mkey\u001b[0m\u001b[0;34m,\u001b[0m \u001b[0mstr\u001b[0m\u001b[0;34m)\u001b[0m\u001b[0;34m:\u001b[0m  \u001b[0;31m# importante para não gerar uma recursão infinita (prox. comment)\u001b[0m\u001b[0;34m\u001b[0m\u001b[0;34m\u001b[0m\u001b[0m\n\u001b[1;32m     13\u001b[0m             \u001b[0;32mraise\u001b[0m \u001b[0mKeyError\u001b[0m\u001b[0;34m(\u001b[0m\u001b[0mkey\u001b[0m\u001b[0;34m)\u001b[0m\u001b[0;34m\u001b[0m\u001b[0;34m\u001b[0m\u001b[0m\n\u001b[0;32m---> 14\u001b[0;31m         \u001b[0;32mreturn\u001b[0m \u001b[0mself\u001b[0m\u001b[0;34m[\u001b[0m\u001b[0mstr\u001b[0m\u001b[0;34m(\u001b[0m\u001b[0mkey\u001b[0m\u001b[0;34m)\u001b[0m\u001b[0;34m]\u001b[0m     \u001b[0;31m# aqui chamamos __getitem__ que se falhar chama __missing__ ... (!!)\u001b[0m\u001b[0;34m\u001b[0m\u001b[0;34m\u001b[0m\u001b[0m\n\u001b[0m\u001b[1;32m     15\u001b[0m \u001b[0;34m\u001b[0m\u001b[0m\n\u001b[1;32m     16\u001b[0m     \u001b[0;32mdef\u001b[0m \u001b[0mget\u001b[0m\u001b[0;34m(\u001b[0m\u001b[0mself\u001b[0m\u001b[0;34m,\u001b[0m \u001b[0mkey\u001b[0m\u001b[0;34m,\u001b[0m \u001b[0mdefault\u001b[0m\u001b[0;34m=\u001b[0m\u001b[0;32mNone\u001b[0m\u001b[0;34m)\u001b[0m\u001b[0;34m:\u001b[0m\u001b[0;34m\u001b[0m\u001b[0;34m\u001b[0m\u001b[0m\n",
      "\u001b[0;32m<ipython-input-120-64f6b60ec657>\u001b[0m in \u001b[0;36m__missing__\u001b[0;34m(self, key)\u001b[0m\n\u001b[1;32m     11\u001b[0m     \u001b[0;32mdef\u001b[0m \u001b[0m__missing__\u001b[0m\u001b[0;34m(\u001b[0m\u001b[0mself\u001b[0m\u001b[0;34m,\u001b[0m \u001b[0mkey\u001b[0m\u001b[0;34m)\u001b[0m\u001b[0;34m:\u001b[0m\u001b[0;34m\u001b[0m\u001b[0;34m\u001b[0m\u001b[0m\n\u001b[1;32m     12\u001b[0m         \u001b[0;32mif\u001b[0m \u001b[0misinstance\u001b[0m\u001b[0;34m(\u001b[0m\u001b[0mkey\u001b[0m\u001b[0;34m,\u001b[0m \u001b[0mstr\u001b[0m\u001b[0;34m)\u001b[0m\u001b[0;34m:\u001b[0m  \u001b[0;31m# importante para não gerar uma recursão infinita (prox. comment)\u001b[0m\u001b[0;34m\u001b[0m\u001b[0;34m\u001b[0m\u001b[0m\n\u001b[0;32m---> 13\u001b[0;31m             \u001b[0;32mraise\u001b[0m \u001b[0mKeyError\u001b[0m\u001b[0;34m(\u001b[0m\u001b[0mkey\u001b[0m\u001b[0;34m)\u001b[0m\u001b[0;34m\u001b[0m\u001b[0;34m\u001b[0m\u001b[0m\n\u001b[0m\u001b[1;32m     14\u001b[0m         \u001b[0;32mreturn\u001b[0m \u001b[0mself\u001b[0m\u001b[0;34m[\u001b[0m\u001b[0mstr\u001b[0m\u001b[0;34m(\u001b[0m\u001b[0mkey\u001b[0m\u001b[0;34m)\u001b[0m\u001b[0;34m]\u001b[0m     \u001b[0;31m# aqui chamamos __getitem__ que se falhar chama __missing__ ... (!!)\u001b[0m\u001b[0;34m\u001b[0m\u001b[0;34m\u001b[0m\u001b[0m\n\u001b[1;32m     15\u001b[0m \u001b[0;34m\u001b[0m\u001b[0m\n",
      "\u001b[0;31mKeyError\u001b[0m: '3'"
     ]
    }
   ],
   "source": [
    "# EXEMPLO DO LIVRO\n",
    "# MANEIRA DE FAZER UMA IMPLEMENTAÇÃO CUSTOMIZADA\n",
    "\n",
    "\"\"\"\n",
    "Objetivo: dicionário que permite encontrar o valor tanto usando\n",
    "a representação da chave como string quanto como inteiro\n",
    "\n",
    "PS: Garante a consistência na BUSCA, não na INSERÇÃO\n",
    "\"\"\"\n",
    "class StrKeyDict0(dict): # -> A classe herda de dict\n",
    "    \n",
    "    def __missing__(self, key):\n",
    "        if isinstance(key, str):  # importante para não gerar uma recursão infinita (prox. comment)\n",
    "            raise KeyError(key)\n",
    "        return self[str(key)]     # aqui chamamos __getitem__ que se falhar chama __missing__ ... (!!)\n",
    "    \n",
    "    def get(self, key, default=None):\n",
    "        try:\n",
    "            return self[key]  # nesse caso, fizemos get delegar para __getitem__\n",
    "                              # dando a oportunidade do nosso __missing__ agir\n",
    "        except KeyError:\n",
    "            return default    # como __missing__ falhou, devolvemos default\n",
    "    \n",
    "    def __contains__(self, key):\n",
    "        return key in self.keys() or str(key) in self.keys() # OBS: não podemos buscar a chave de maneira\n",
    "                                                             # pythonica convencional usando: key in self\n",
    "                                                             # porque se não __contains__ seria chamado\n",
    "                                                             # recursivamente, por isso evitamos isso\n",
    "                                                             # chamando explicitamente self.keys()\n",
    "    \n",
    "\n",
    "# TESTES\n",
    "custom_dict = StrKeyDict0({'2': 'two', '4': 'four'})\n",
    "display(custom_dict)\n",
    "print(custom_dict['4'])\n",
    "print(custom_dict[4])\n",
    "print(custom_dict[3]) # como esperado, gera KeyError porque '3' não existe no dicionario"
   ]
  }
 ],
 "metadata": {
  "kernelspec": {
   "display_name": "Python 3",
   "language": "python",
   "name": "python3"
  },
  "language_info": {
   "codemirror_mode": {
    "name": "ipython",
    "version": 3
   },
   "file_extension": ".py",
   "mimetype": "text/x-python",
   "name": "python",
   "nbconvert_exporter": "python",
   "pygments_lexer": "ipython3",
   "version": "3.8.3"
  }
 },
 "nbformat": 4,
 "nbformat_minor": 4
}
